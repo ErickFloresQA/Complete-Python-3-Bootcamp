{
  "cells": [
    {
      "cell_type": "markdown",
      "id": "5b8f9968",
      "metadata": {
        "id": "5b8f9968"
      },
      "source": [
        "# PlasmaPy Tutorial"
      ]
    },
    {
      "cell_type": "markdown",
      "id": "c8c364e5",
      "metadata": {
        "id": "c8c364e5"
      },
      "source": [
        "[`astropy.units`]: https://docs.astropy.org/en/stable/units/index.html\n",
        "[`plasmapy.particles`]: https://docs.plasmapy.org/en/stable/particles/index.html\n",
        "[`plasmapy.formulary`]: https://docs.plasmapy.org/en/stable/formulary/index.html\n",
        "[`plasmapy.dispersion`]: https://docs.plasmapy.org/en/stable/dispersion/index.html\n",
        "\n",
        "Thank you for coming to this interactive tutorial. 🌱 We are excited for you to be here! 😺\n",
        "\n",
        "PlasmaPy is an open source Python package for plasma research and education. We will start off today by reviewing [`astropy.units`] 📏, and then go through some interactive examples of using [`plasmapy.particles`] ⚛️ and [`plasmapy.formulary`] 🧮.\n",
        "\n",
        "To execute a cell in a Jupyter notebook, press `Shift + Enter`."
      ]
    },
    {
      "cell_type": "markdown",
      "id": "7fc8780c-8042-4324-a246-e0f9c3476930",
      "metadata": {
        "id": "7fc8780c-8042-4324-a246-e0f9c3476930"
      },
      "source": [
        "Let's start with some preliminary imports & settings. (If you have to restart the notebook, please re-execute this cell.)\n",
        "\n",
        "⚠️ On **Google Colab**, it might be necessary to click on **Run anyway** followed by **Restart runtime**."
      ]
    },
    {
      "cell_type": "code",
      "execution_count": 1,
      "id": "fa326226",
      "metadata": {
        "id": "fa326226"
      },
      "outputs": [],
      "source": [
        "import sys\n",
        "\n",
        "if 'google.colab' in str(get_ipython()):\n",
        "    if 'plasmapy' not in sys.modules:\n",
        "        !pip install --quiet plasmapy==2024.10.0\n",
        "\n",
        "import numpy as np\n",
        "import astropy.units as u\n",
        "from astropy import constants as const\n",
        "from plasmapy.particles import *\n",
        "from plasmapy.formulary import *"
      ]
    },
    {
      "cell_type": "markdown",
      "id": "6e8f0d92",
      "metadata": {
        "id": "6e8f0d92"
      },
      "source": [
        "## Astropy units"
      ]
    },
    {
      "cell_type": "markdown",
      "id": "93658d4f",
      "metadata": {
        "id": "93658d4f"
      },
      "source": [
        "[`astropy.units`]: https://docs.astropy.org/en/stable/units/index.html\n",
        "\n",
        "PlasmaPy makes heavy use of [`astropy.units`], which is my favorite part of the scientific pythoniverse!  We typically import this subpackage as `u`."
      ]
    },
    {
      "cell_type": "code",
      "execution_count": 2,
      "id": "8c20320a",
      "metadata": {
        "id": "8c20320a"
      },
      "outputs": [],
      "source": [
        "import astropy.units as u"
      ]
    },
    {
      "cell_type": "markdown",
      "id": "e9ccbb06",
      "metadata": {
        "id": "e9ccbb06"
      },
      "source": [
        "We can create a physical quantity by multiplying or dividing a number or array with a unit."
      ]
    },
    {
      "cell_type": "code",
      "execution_count": 3,
      "id": "8437650a",
      "metadata": {
        "colab": {
          "base_uri": "https://localhost:8080/",
          "height": 37
        },
        "id": "8437650a",
        "outputId": "ab2ed241-7f8d-4fe1-c493-3bb20e746750"
      },
      "outputs": [
        {
          "output_type": "execute_result",
          "data": {
            "text/plain": [
              "<Quantity 60. km>"
            ],
            "text/latex": "$60 \\; \\mathrm{km}$"
          },
          "metadata": {},
          "execution_count": 3
        }
      ],
      "source": [
        "60 * u.km"
      ]
    },
    {
      "cell_type": "markdown",
      "id": "ccc6659f",
      "metadata": {
        "id": "ccc6659f"
      },
      "source": [
        "[`Quantity`]: https://docs.astropy.org/en/stable/api/astropy.units.Quantity.html#astropy.units.Quantity\n",
        "\n",
        "This operation creates a [`Quantity`] object: a number, sequence, or array that has been assigned a physical unit.  We can create [`Quantity`] objects with compound units."
      ]
    },
    {
      "cell_type": "code",
      "execution_count": 4,
      "id": "4932159b",
      "metadata": {
        "colab": {
          "base_uri": "https://localhost:8080/"
        },
        "id": "4932159b",
        "outputId": "137e38a8-32ee-4879-88b2-d89248d42d14"
      },
      "outputs": [
        {
          "output_type": "stream",
          "name": "stdout",
          "text": [
            "88.0 mi / h\n"
          ]
        }
      ],
      "source": [
        "V = 88 * u.imperial.mile / u.hour\n",
        "print(V)"
      ]
    },
    {
      "cell_type": "markdown",
      "id": "a60e9ea9",
      "metadata": {
        "id": "a60e9ea9"
      },
      "source": [
        "[physical type]: https://docs.astropy.org/en/stable/units/physical_types.html#physical-types\n",
        "[`Quantity`]: https://docs.astropy.org/en/stable/api/astropy.units.Quantity.html#astropy.units.Quantity\n",
        "\n",
        "Operations between [`Quantity`] objects handle unit conversions automatically. We can add [`Quantity`] objects together as long as their units have the same [physical type]."
      ]
    },
    {
      "cell_type": "code",
      "execution_count": 5,
      "id": "65e08284",
      "metadata": {
        "colab": {
          "base_uri": "https://localhost:8080/",
          "height": 37
        },
        "id": "65e08284",
        "outputId": "6a4ebe50-443e-4361-bdd6-b01a2540dcc5"
      },
      "outputs": [
        {
          "output_type": "execute_result",
          "data": {
            "text/plain": [
              "<Quantity 1.25 m>"
            ],
            "text/latex": "$1.25 \\; \\mathrm{m}$"
          },
          "metadata": {},
          "execution_count": 5
        }
      ],
      "source": [
        "1 * u.m + 25 * u.cm"
      ]
    },
    {
      "cell_type": "markdown",
      "id": "edb43067",
      "metadata": {
        "id": "edb43067"
      },
      "source": [
        "Units get handled automatically during operations like multiplication, division, and exponentiation."
      ]
    },
    {
      "cell_type": "code",
      "execution_count": 6,
      "id": "c36788db",
      "metadata": {
        "colab": {
          "base_uri": "https://localhost:8080/",
          "height": 37
        },
        "id": "c36788db",
        "outputId": "27d71404-1315-481a-8f19-985a7dea77d9"
      },
      "outputs": [
        {
          "output_type": "execute_result",
          "data": {
            "text/plain": [
              "<Quantity 8. m3>"
            ],
            "text/latex": "$8 \\; \\mathrm{m^{3}}$"
          },
          "metadata": {},
          "execution_count": 6
        }
      ],
      "source": [
        "(2 * u.m)**3"
      ]
    },
    {
      "cell_type": "markdown",
      "id": "b910a84b",
      "metadata": {
        "id": "b910a84b"
      },
      "source": [
        "[`Quantity`]: https://docs.astropy.org/en/stable/api/astropy.units.Quantity.html#astropy.units.Quantity\n",
        "[`to()`]: https://docs.astropy.org/en/stable/api/astropy.units.Quantity.html#astropy.units.Quantity.to\n",
        "\n",
        "The [`to()`] method allows us to convert a [`Quantity`] to different units of the same physical type. This method accepts strings that represent a unit (including compound units) or a unit object."
      ]
    },
    {
      "cell_type": "code",
      "execution_count": 7,
      "id": "80f4f133",
      "metadata": {
        "colab": {
          "base_uri": "https://localhost:8080/",
          "height": 38
        },
        "id": "80f4f133",
        "outputId": "9ee5a791-0b9b-4635-84a2-10d52a0b482f"
      },
      "outputs": [
        {
          "output_type": "execute_result",
          "data": {
            "text/plain": [
              "<Quantity 39.33952 m / s>"
            ],
            "text/latex": "$39.33952 \\; \\mathrm{\\frac{m}{s}}$"
          },
          "metadata": {},
          "execution_count": 7
        }
      ],
      "source": [
        "V.to(\"m / s\")"
      ]
    },
    {
      "cell_type": "code",
      "execution_count": 8,
      "id": "21c46ef1",
      "metadata": {
        "colab": {
          "base_uri": "https://localhost:8080/",
          "height": 38
        },
        "id": "21c46ef1",
        "outputId": "6bceab9a-edb4-48da-a6aa-58234364f2da"
      },
      "outputs": [
        {
          "output_type": "execute_result",
          "data": {
            "text/plain": [
              "<Quantity 141.622272 km / h>"
            ],
            "text/latex": "$141.62227 \\; \\mathrm{\\frac{km}{h}}$"
          },
          "metadata": {},
          "execution_count": 8
        }
      ],
      "source": [
        "V.to (u.km / u.hr)"
      ]
    },
    {
      "cell_type": "markdown",
      "id": "07c3b9c1",
      "metadata": {
        "id": "07c3b9c1"
      },
      "source": [
        "[electron-volt]: https://en.wikipedia.org/wiki/Electronvolt\n",
        "[Boltzmann constant]: https://en.wikipedia.org/wiki/Boltzmann_constant\n",
        "[`astropy.units`]: https://docs.astropy.org/en/stable/units/index.html\n",
        "[equivalencies]: https://docs.astropy.org/en/stable/units/equivalencies.html\n",
        "[`temperature_energy()`]: https://docs.astropy.org/en/stable/units/equivalencies.html#temperature-energy-equivalency\n",
        "\n",
        "Plasma scientists often use the [electron-volt] (eV) as a unit of temperature. This is a shortcut for describing the thermal energy per particle, or more accurately the temperature multiplied by the [Boltzmann constant], $k_B$.\n",
        "\n",
        "Because an electron-volt is a unit of energy rather than temperature, we cannot directly convert electron-volts to kelvin. To handle non-standard unit conversions, [`astropy.units`] allows the use of [equivalencies]. The conversion from eV to K can be done by using the [`temperature_energy()`] equivalency."
      ]
    },
    {
      "cell_type": "code",
      "execution_count": 12,
      "id": "afac5b4a",
      "metadata": {
        "colab": {
          "base_uri": "https://localhost:8080/",
          "height": 37
        },
        "id": "afac5b4a",
        "outputId": "6396bf12-3df1-4ce1-abf6-32cd32755004"
      },
      "outputs": [
        {
          "output_type": "execute_result",
          "data": {
            "text/plain": [
              "<Quantity 11604.51812155 K>"
            ],
            "text/latex": "$11604.518 \\; \\mathrm{K}$"
          },
          "metadata": {},
          "execution_count": 12
        }
      ],
      "source": [
        "(1 * u.eV).to(\"K\", equivalencies=u.temperature_energy())"
      ]
    },
    {
      "cell_type": "markdown",
      "id": "b714de6a",
      "metadata": {
        "id": "b714de6a"
      },
      "source": [
        "[`astropy.constants`]: https://docs.astropy.org/en/stable/constants/index.html\n",
        "\n",
        "[`astropy.constants`] provides access to the most commonly needed physical constants."
      ]
    },
    {
      "cell_type": "code",
      "execution_count": 13,
      "id": "746a79a7",
      "metadata": {
        "id": "746a79a7"
      },
      "outputs": [],
      "source": [
        "import astropy.constants as const"
      ]
    },
    {
      "cell_type": "code",
      "execution_count": 14,
      "id": "9c058f48",
      "metadata": {
        "colab": {
          "base_uri": "https://localhost:8080/",
          "height": 38
        },
        "id": "9c058f48",
        "outputId": "87ea3cd0-0c19-4e97-c1a1-c89655dcbb8f"
      },
      "outputs": [
        {
          "output_type": "execute_result",
          "data": {
            "text/plain": [
              "<<class 'astropy.constants.codata2018.CODATA2018'> name='Speed of light in vacuum' value=299792458.0 uncertainty=0.0 unit='m / s' reference='CODATA 2018'>"
            ],
            "text/latex": "$2.9979246 \\times 10^{8} \\; \\mathrm{\\frac{m}{s}}$"
          },
          "metadata": {},
          "execution_count": 14
        }
      ],
      "source": [
        "const.c"
      ]
    },
    {
      "cell_type": "code",
      "execution_count": 15,
      "id": "44cdd138",
      "metadata": {
        "colab": {
          "base_uri": "https://localhost:8080/",
          "height": 37
        },
        "id": "44cdd138",
        "outputId": "74f135ff-8aaa-4645-f8e5-bd31e6c16a13"
      },
      "outputs": [
        {
          "output_type": "execute_result",
          "data": {
            "text/plain": [
              "<<class 'astropy.constants.codata2018.CODATA2018'> name='Electron mass' value=9.1093837015e-31 uncertainty=2.8e-40 unit='kg' reference='CODATA 2018'>"
            ],
            "text/latex": "$9.1093837 \\times 10^{-31} \\; \\mathrm{kg}$"
          },
          "metadata": {},
          "execution_count": 15
        }
      ],
      "source": [
        "const.m_e"
      ]
    },
    {
      "cell_type": "markdown",
      "id": "97a8d49a",
      "metadata": {
        "id": "97a8d49a"
      },
      "source": [
        "## Particles"
      ]
    },
    {
      "cell_type": "markdown",
      "id": "0c7eeced",
      "metadata": {
        "id": "0c7eeced"
      },
      "source": [
        "[`plasmapy.particles`]: https://docs.plasmapy.org/en/stable/particles/index.html\n",
        "\n",
        "The [`plasmapy.particles`] subpackage contains functions to access basic particle data and classes to represent particles."
      ]
    },
    {
      "cell_type": "code",
      "execution_count": 55,
      "id": "24125310",
      "metadata": {
        "id": "24125310"
      },
      "outputs": [],
      "source": [
        "from plasmapy.particles import *"
      ]
    },
    {
      "cell_type": "markdown",
      "id": "e224284a",
      "metadata": {
        "id": "e224284a"
      },
      "source": [
        "### Particle properties"
      ]
    },
    {
      "cell_type": "markdown",
      "id": "7696deba",
      "metadata": {
        "id": "7696deba"
      },
      "source": [
        "[representation of a particle]: https://docs.plasmapy.org/en/stable/api/plasmapy.particles.ParticleLike.html#particlelike\n",
        "\n",
        "There are several functions that provide information about different particles that might be present in a plasma. The input of these functions is a [representation of a particle], such as a string for the atomic symbol or the element name."
      ]
    },
    {
      "cell_type": "code",
      "execution_count": 17,
      "id": "006b8d3e",
      "metadata": {
        "colab": {
          "base_uri": "https://localhost:8080/"
        },
        "id": "006b8d3e",
        "outputId": "f19d2b80-2c34-4d2c-990d-6c541af8a519"
      },
      "outputs": [
        {
          "output_type": "execute_result",
          "data": {
            "text/plain": [
              "26"
            ]
          },
          "metadata": {},
          "execution_count": 17
        }
      ],
      "source": [
        "atomic_number(\"Fe\")"
      ]
    },
    {
      "cell_type": "markdown",
      "id": "2aa5af34",
      "metadata": {
        "id": "2aa5af34"
      },
      "source": [
        "[atomic number]: https://en.wikipedia.org/wiki/Atomic_number\n",
        "\n",
        "We can provide a number that represents the [atomic number]."
      ]
    },
    {
      "cell_type": "code",
      "execution_count": 18,
      "id": "69958326",
      "metadata": {
        "colab": {
          "base_uri": "https://localhost:8080/",
          "height": 35
        },
        "id": "69958326",
        "outputId": "c261f055-ebd9-4949-dfa2-d7636222b506"
      },
      "outputs": [
        {
          "output_type": "execute_result",
          "data": {
            "text/plain": [
              "'iron'"
            ],
            "application/vnd.google.colaboratory.intrinsic+json": {
              "type": "string"
            }
          },
          "metadata": {},
          "execution_count": 18
        }
      ],
      "source": [
        "element_name(26)"
      ]
    },
    {
      "cell_type": "markdown",
      "id": "cca89cef",
      "metadata": {
        "id": "cca89cef"
      },
      "source": [
        "We can provide standard symbols or the names of particles."
      ]
    },
    {
      "cell_type": "code",
      "execution_count": 19,
      "id": "16ca5b6f",
      "metadata": {
        "colab": {
          "base_uri": "https://localhost:8080/"
        },
        "id": "16ca5b6f",
        "outputId": "59ed901c-3cfd-4556-cb3d-10953e5c2ba7"
      },
      "outputs": [
        {
          "output_type": "execute_result",
          "data": {
            "text/plain": [
              "True"
            ]
          },
          "metadata": {},
          "execution_count": 19
        }
      ],
      "source": [
        "is_stable(\"e-\")"
      ]
    },
    {
      "cell_type": "code",
      "execution_count": 54,
      "id": "35d8e49e",
      "metadata": {
        "colab": {
          "base_uri": "https://localhost:8080/"
        },
        "id": "35d8e49e",
        "outputId": "8822b99e-29f4-47a5-ad89-fb500e8cea32"
      },
      "outputs": [
        {
          "output_type": "execute_result",
          "data": {
            "text/plain": [
              "1"
            ]
          },
          "metadata": {},
          "execution_count": 54
        }
      ],
      "source": [
        "charge_number(\"proton\")"
      ]
    },
    {
      "cell_type": "markdown",
      "id": "8f2e5b30",
      "metadata": {
        "id": "8f2e5b30"
      },
      "source": [
        "[mass number]: https://en.wikipedia.org/wiki/Mass_number\n",
        "[`Quantity`]: https://docs.astropy.org/en/stable/units/quantity.html#quantity\n",
        "[`astropy.units`]: https://docs.astropy.org/en/stable/units/index.html\n",
        "[`half_life`]: https://docs.plasmapy.org/en/stable/api/plasmapy.particles.atomic.half_life.html#half-life\n",
        "\n",
        "We can represent isotopes with the atomic symbol followed by a hyphen and the [mass number]. Let's use [`half_life`] to return the half-life of a radioactive particle in seconds as a [`Quantity`]."
      ]
    },
    {
      "cell_type": "code",
      "execution_count": 22,
      "id": "94fcf452",
      "metadata": {
        "colab": {
          "base_uri": "https://localhost:8080/",
          "height": 37
        },
        "id": "94fcf452",
        "outputId": "2b447633-819a-47b9-a9bf-61983479ff37"
      },
      "outputs": [
        {
          "output_type": "execute_result",
          "data": {
            "text/plain": [
              "<Quantity 5730. yr>"
            ],
            "text/latex": "$5730 \\; \\mathrm{yr}$"
          },
          "metadata": {},
          "execution_count": 22
        }
      ],
      "source": [
        "half_life(\"C-14\").to(u.yr)"
      ]
    },
    {
      "cell_type": "markdown",
      "id": "58ab7782",
      "metadata": {
        "id": "58ab7782"
      },
      "source": [
        "We typically represent an ion in a string by putting together the atomic symbol or isotope symbol, a space, the charge number, and the sign of the charge."
      ]
    },
    {
      "cell_type": "code",
      "execution_count": 23,
      "id": "a65e15da",
      "metadata": {
        "colab": {
          "base_uri": "https://localhost:8080/"
        },
        "id": "a65e15da",
        "outputId": "30a71c15-1af4-4e25-9fc6-92e58affaf3d"
      },
      "outputs": [
        {
          "output_type": "execute_result",
          "data": {
            "text/plain": [
              "13"
            ]
          },
          "metadata": {},
          "execution_count": 23
        }
      ],
      "source": [
        "charge_number(\"Fe-56 13+\")"
      ]
    },
    {
      "cell_type": "markdown",
      "id": "ce4886cf",
      "metadata": {
        "id": "ce4886cf"
      },
      "source": [
        "[particle-like]: https://docs.plasmapy.org/en/latest/glossary.html#term-particle-like\n",
        "[`plasmapy.particles`]: https://docs.plasmapy.org/en/stable/particles/index.html\n",
        "\n",
        "Functions in [`plasmapy.particles`] are quite flexible in terms of string inputs representing particles. An input is [particle-like] if it can be used to represent a physical particle.  "
      ]
    },
    {
      "cell_type": "code",
      "execution_count": 24,
      "id": "05e03a8b",
      "metadata": {
        "colab": {
          "base_uri": "https://localhost:8080/",
          "height": 37
        },
        "id": "05e03a8b",
        "outputId": "29660e29-9cff-41d5-8dd5-894792e2826b"
      },
      "outputs": [
        {
          "output_type": "execute_result",
          "data": {
            "text/plain": [
              "<Quantity 9.28703048e-26 kg>"
            ],
            "text/latex": "$9.2870305 \\times 10^{-26} \\; \\mathrm{kg}$"
          },
          "metadata": {},
          "execution_count": 24
        }
      ],
      "source": [
        "particle_mass(\"iron-56 +13\")"
      ]
    },
    {
      "cell_type": "code",
      "execution_count": 25,
      "id": "0dd9541b",
      "metadata": {
        "colab": {
          "base_uri": "https://localhost:8080/",
          "height": 37
        },
        "id": "0dd9541b",
        "outputId": "36d89dc0-4903-45cf-ae00-3b6e27e095a1"
      },
      "outputs": [
        {
          "output_type": "execute_result",
          "data": {
            "text/plain": [
              "<Quantity 9.28703048e-26 kg>"
            ],
            "text/latex": "$9.2870305 \\times 10^{-26} \\; \\mathrm{kg}$"
          },
          "metadata": {},
          "execution_count": 25
        }
      ],
      "source": [
        "particle_mass(\"iron-56+++++++++++++\")"
      ]
    },
    {
      "cell_type": "markdown",
      "id": "d3adf3a6",
      "metadata": {
        "id": "d3adf3a6"
      },
      "source": [
        "Most of these functions take additional arguments, with `Z` representing the charge number of an ion and `mass_numb` representing the mass number of an isotope. These arguments are often [keyword-only](https://docs.plasmapy.org/en/latest/glossary.html#term-keyword-only) to avoid ambiguity."
      ]
    },
    {
      "cell_type": "code",
      "execution_count": 26,
      "id": "61e0f960",
      "metadata": {
        "colab": {
          "base_uri": "https://localhost:8080/",
          "height": 37
        },
        "id": "61e0f960",
        "outputId": "8e93a436-3198-4038-f9bc-1b97b762fdb2"
      },
      "outputs": [
        {
          "output_type": "execute_result",
          "data": {
            "text/plain": [
              "<Quantity 9.28703048e-26 kg>"
            ],
            "text/latex": "$9.2870305 \\times 10^{-26} \\; \\mathrm{kg}$"
          },
          "metadata": {},
          "execution_count": 26
        }
      ],
      "source": [
        "particle_mass(\"Fe\", Z=13, mass_numb=56)"
      ]
    },
    {
      "cell_type": "markdown",
      "id": "53a1d993",
      "metadata": {
        "id": "53a1d993"
      },
      "source": [
        "### Particle objects"
      ]
    },
    {
      "cell_type": "markdown",
      "id": "3c2c3835",
      "metadata": {
        "id": "3c2c3835"
      },
      "source": [
        "[`Particle`]: https://docs.plasmapy.org/en/stable/api/plasmapy.particles.particle_class.Particle.html#plasmapy.particles.particle_class.Particle\n",
        "\n",
        "Up until now, we have been using functions that accept representations of particles and then return particle properties. With the [`Particle`] class, we can create objects that represent physical particles."
      ]
    },
    {
      "cell_type": "code",
      "execution_count": 28,
      "id": "fe9f824a",
      "metadata": {
        "id": "fe9f824a"
      },
      "outputs": [],
      "source": [
        "proton = Particle(\"p+\")\n",
        "electron = Particle(\"e-\")\n",
        "iron56_nucleus = Particle(\"Fe\", Z=26, mass_numb=56)"
      ]
    },
    {
      "cell_type": "markdown",
      "id": "160df55b",
      "metadata": {
        "id": "160df55b"
      },
      "source": [
        "[`Particle`]: https://docs.plasmapy.org/en/stable/api/plasmapy.particles.particle_class.Particle.html#plasmapy.particles.particle_class.Particle\n",
        "\n",
        "Particle properties can be accessed via attributes of the [`Particle`] class."
      ]
    },
    {
      "cell_type": "code",
      "execution_count": 56,
      "id": "bebcc477",
      "metadata": {
        "colab": {
          "base_uri": "https://localhost:8080/",
          "height": 37
        },
        "id": "bebcc477",
        "outputId": "b0cb663a-c553-443d-95ff-d6d362531f76"
      },
      "outputs": [
        {
          "output_type": "execute_result",
          "data": {
            "text/plain": [
              "<Quantity 1.67262192e-27 kg>"
            ],
            "text/latex": "$1.6726219 \\times 10^{-27} \\; \\mathrm{kg}$"
          },
          "metadata": {},
          "execution_count": 56
        }
      ],
      "source": [
        "proton.mass"
      ]
    },
    {
      "cell_type": "code",
      "execution_count": 30,
      "id": "df0f2eed",
      "metadata": {
        "colab": {
          "base_uri": "https://localhost:8080/",
          "height": 37
        },
        "id": "df0f2eed",
        "outputId": "62796d92-b27f-4457-f33e-ba84cc8668f6"
      },
      "outputs": [
        {
          "output_type": "execute_result",
          "data": {
            "text/plain": [
              "<Quantity -1.60217663e-19 C>"
            ],
            "text/latex": "$-1.6021766 \\times 10^{-19} \\; \\mathrm{C}$"
          },
          "metadata": {},
          "execution_count": 30
        }
      ],
      "source": [
        "electron.charge"
      ]
    },
    {
      "cell_type": "code",
      "execution_count": 32,
      "id": "116cd6ad",
      "metadata": {
        "colab": {
          "base_uri": "https://localhost:8080/",
          "height": 37
        },
        "id": "116cd6ad",
        "outputId": "99d25da6-8430-4061-80f4-fc338072477c"
      },
      "outputs": [
        {
          "output_type": "execute_result",
          "data": {
            "text/plain": [
              "<Quantity 492.25957001 MeV>"
            ],
            "text/latex": "$492.25957 \\; \\mathrm{MeV}$"
          },
          "metadata": {},
          "execution_count": 32
        }
      ],
      "source": [
        "iron56_nucleus.binding_energy.to(\"MeV\")"
      ]
    },
    {
      "cell_type": "code",
      "execution_count": null,
      "id": "99d22bd3",
      "metadata": {
        "id": "99d22bd3"
      },
      "outputs": [],
      "source": []
    },
    {
      "cell_type": "markdown",
      "id": "8986cef8",
      "metadata": {
        "id": "8986cef8"
      },
      "source": [
        "#### Antiparticles\n",
        "\n",
        "[`antiparticle`]: https://docs.plasmapy.org/en/stable/api/plasmapy.particles.particle_class.Particle.html#plasmapy.particles.particle_class.Particle.antiparticle\n",
        "[`Particle`]: https://docs.plasmapy.org/en/stable/api/plasmapy.particles.particle_class.Particle.html#plasmapy.particles.particle_class.Particle\n",
        "\n",
        "We can get antiparticles of fundamental particles by using the [`antiparticle`] attribute of a [`Particle`]."
      ]
    },
    {
      "cell_type": "code",
      "execution_count": 33,
      "id": "f6663952",
      "metadata": {
        "colab": {
          "base_uri": "https://localhost:8080/"
        },
        "id": "f6663952",
        "outputId": "82f2ea53-0717-4da4-c9ba-bbf920b5699c"
      },
      "outputs": [
        {
          "output_type": "execute_result",
          "data": {
            "text/plain": [
              "Particle(\"e+\")"
            ]
          },
          "metadata": {},
          "execution_count": 33
        }
      ],
      "source": [
        "electron.antiparticle"
      ]
    },
    {
      "cell_type": "markdown",
      "id": "bf40e592",
      "metadata": {
        "id": "bf40e592"
      },
      "source": [
        "[`Particle`]: https://docs.plasmapy.org/en/stable/api/plasmapy.particles.particle_class.Particle.html#plasmapy.particles.particle_class.Particle\n",
        "\n",
        "\n",
        "We can also use the tilde (`~`) operator on a [`Particle`] to get its antiparticle."
      ]
    },
    {
      "cell_type": "code",
      "execution_count": 57,
      "id": "180a1edf",
      "metadata": {
        "colab": {
          "base_uri": "https://localhost:8080/"
        },
        "id": "180a1edf",
        "outputId": "27ec6e0c-8ae3-4be3-ce30-1b02e0c4fc2c"
      },
      "outputs": [
        {
          "output_type": "execute_result",
          "data": {
            "text/plain": [
              "Particle(\"p-\")"
            ]
          },
          "metadata": {},
          "execution_count": 57
        }
      ],
      "source": [
        "~proton"
      ]
    },
    {
      "cell_type": "markdown",
      "id": "8500bc48",
      "metadata": {
        "id": "8500bc48"
      },
      "source": [
        "#### Ionization and recombination\n",
        "\n",
        "[`Particle`]: https://docs.plasmapy.org/en/stable/api/plasmapy.particles.particle_class.Particle.html#plasmapy.particles.particle_class.Particle\n",
        "[`recombine()`]: https://docs.plasmapy.org/en/stable/api/plasmapy.particles.particle_class.Particle.html#plasmapy.particles.particle_class.Particle.recombine\n",
        "[`ionize()`]: https://docs.plasmapy.org/en/stable/api/plasmapy.particles.particle_class.Particle.html#plasmapy.particles.particle_class.Particle.ionize\n",
        "\n",
        "The [`recombine()`] and [`ionize()`] methods of a [`Particle`] representing an ion or neutral atom will return a different [`Particle`] with fewer or more electrons."
      ]
    },
    {
      "cell_type": "code",
      "execution_count": 36,
      "id": "186b1dfa",
      "metadata": {
        "colab": {
          "base_uri": "https://localhost:8080/"
        },
        "id": "186b1dfa",
        "outputId": "e0eaa737-d0c6-406e-c0c9-9446dd523c6c"
      },
      "outputs": [
        {
          "output_type": "execute_result",
          "data": {
            "text/plain": [
              "Particle(\"D 1+\")"
            ]
          },
          "metadata": {},
          "execution_count": 36
        }
      ],
      "source": [
        "deuterium = Particle(\"D 0+\")\n",
        "deuterium.ionize()"
      ]
    },
    {
      "cell_type": "markdown",
      "id": "4ee95241",
      "metadata": {
        "id": "4ee95241"
      },
      "source": [
        "When provided with a number, these methods tell how many bound electrons to add or remove."
      ]
    },
    {
      "cell_type": "code",
      "execution_count": 37,
      "id": "242b53bd",
      "metadata": {
        "colab": {
          "base_uri": "https://localhost:8080/"
        },
        "id": "242b53bd",
        "outputId": "b773580f-ebaf-453c-e5bb-3562cc3571a7"
      },
      "outputs": [
        {
          "output_type": "execute_result",
          "data": {
            "text/plain": [
              "Particle(\"He-4 0+\")"
            ]
          },
          "metadata": {},
          "execution_count": 37
        }
      ],
      "source": [
        "alpha = Particle(\"alpha\")\n",
        "alpha.recombine(2)"
      ]
    },
    {
      "cell_type": "markdown",
      "id": "e5302bef",
      "metadata": {
        "id": "e5302bef"
      },
      "source": [
        "### Custom particles"
      ]
    },
    {
      "cell_type": "markdown",
      "id": "4c8c2a63",
      "metadata": {
        "id": "4c8c2a63"
      },
      "source": [
        "[`CustomParticle`]: https://docs.plasmapy.org/en/stable/api/plasmapy.particles.particle_class.CustomParticle.html\n",
        "\n",
        "Sometimes we want to use a particle with custom properties.  For example, we might want to represent an average ion in a multi-species plasma or a dust particle.  For that we can use [`CustomParticle`]."
      ]
    },
    {
      "cell_type": "code",
      "execution_count": 44,
      "id": "35b94505",
      "metadata": {
        "id": "35b94505"
      },
      "outputs": [],
      "source": [
        "cp = CustomParticle(mass = 9e-26 * u.kg, charge = 2.18e-18 * u.C, symbol=\"Fe 13.6+\")"
      ]
    },
    {
      "cell_type": "markdown",
      "id": "dfc19404",
      "metadata": {
        "id": "dfc19404"
      },
      "source": [
        "[`CustomParticle`]: https://docs.plasmapy.org/en/stable/api/plasmapy.particles.particle_class.CustomParticle.html\n",
        "[`Particle`]: https://docs.plasmapy.org/en/stable/api/plasmapy.particles.particle_class.Particle.html\n",
        "\n",
        "Many of the attributes of [`CustomParticle`] are the same as in [`Particle`]."
      ]
    },
    {
      "cell_type": "code",
      "execution_count": 39,
      "id": "8a4b412b",
      "metadata": {
        "colab": {
          "base_uri": "https://localhost:8080/",
          "height": 37
        },
        "id": "8a4b412b",
        "outputId": "21fb651b-41a7-4ba2-d8a1-35d0f380fb5b"
      },
      "outputs": [
        {
          "output_type": "execute_result",
          "data": {
            "text/plain": [
              "<Quantity 9.e-26 kg>"
            ],
            "text/latex": "$9 \\times 10^{-26} \\; \\mathrm{kg}$"
          },
          "metadata": {},
          "execution_count": 39
        }
      ],
      "source": [
        "cp.mass"
      ]
    },
    {
      "cell_type": "code",
      "execution_count": 40,
      "id": "a2da2b3b",
      "metadata": {
        "colab": {
          "base_uri": "https://localhost:8080/",
          "height": 37
        },
        "id": "a2da2b3b",
        "outputId": "41c149a4-d0bc-4b85-a7f1-a2bf8ff918bc"
      },
      "outputs": [
        {
          "output_type": "execute_result",
          "data": {
            "text/plain": [
              "<Quantity 2.18e-18 C>"
            ],
            "text/latex": "$2.18 \\times 10^{-18} \\; \\mathrm{C}$"
          },
          "metadata": {},
          "execution_count": 40
        }
      ],
      "source": [
        "cp.charge"
      ]
    },
    {
      "cell_type": "code",
      "execution_count": 45,
      "id": "ecb450f6",
      "metadata": {
        "colab": {
          "base_uri": "https://localhost:8080/",
          "height": 35
        },
        "id": "ecb450f6",
        "outputId": "f679f46a-41ff-4cb8-d7ec-21a9230086e2"
      },
      "outputs": [
        {
          "output_type": "execute_result",
          "data": {
            "text/plain": [
              "'Fe 13.6+'"
            ],
            "application/vnd.google.colaboratory.intrinsic+json": {
              "type": "string"
            }
          },
          "metadata": {},
          "execution_count": 45
        }
      ],
      "source": [
        "cp.symbol"
      ]
    },
    {
      "cell_type": "markdown",
      "id": "21a992a9",
      "metadata": {
        "id": "21a992a9"
      },
      "source": [
        "[`numpy.nan`]: https://numpy.org/doc/stable/reference/constants.html#numpy.nan\n",
        "\n",
        "If we do not include one of the physical quantities, it gets set to [`numpy.nan`] (not a number) in the appropriate units."
      ]
    },
    {
      "cell_type": "code",
      "execution_count": 46,
      "id": "a31c421a",
      "metadata": {
        "colab": {
          "base_uri": "https://localhost:8080/",
          "height": 37
        },
        "id": "a31c421a",
        "outputId": "1d662e13-a661-4b67-8a26-dc27d00b42ec"
      },
      "outputs": [
        {
          "output_type": "execute_result",
          "data": {
            "text/plain": [
              "<Quantity nan C>"
            ],
            "text/latex": "${\\rm NaN} \\; \\mathrm{C}$"
          },
          "metadata": {},
          "execution_count": 46
        }
      ],
      "source": [
        "CustomParticle(mass = 9.27e-26 * u.kg).charge"
      ]
    },
    {
      "cell_type": "markdown",
      "id": "6292a1f3",
      "metadata": {
        "id": "6292a1f3"
      },
      "source": [
        "[`CustomParticle`]: https://docs.plasmapy.org/en/stable/api/plasmapy.particles.particle_class.CustomParticle.html\n",
        "[`plasmapy.formulary`]: https://docs.plasmapy.org/en/stable/formulary/index.html\n",
        "\n",
        "[`CustomParticle`] objects can provided to most of the commonly used functions in [`plasmapy.formulary`], and we're planning to improve interoperability in future releases of PlasmaPy."
      ]
    },
    {
      "cell_type": "markdown",
      "id": "0f2b0634",
      "metadata": {
        "id": "0f2b0634"
      },
      "source": [
        "### Particle lists"
      ]
    },
    {
      "cell_type": "markdown",
      "id": "7939cfad",
      "metadata": {
        "id": "7939cfad"
      },
      "source": [
        "[`ParticleList`]: https://docs.plasmapy.org/en/stable/api/plasmapy.particles.particle_collections.ParticleList.html\n",
        "[`CustomParticle`]: https://docs.plasmapy.org/en/stable/api/plasmapy.particles.particle_class.CustomParticle.html\n",
        "[`Particle`]: https://docs.plasmapy.org/en/stable/api/plasmapy.particles.particle_class.Particle.html\n",
        "\n",
        "The [`ParticleList`] class is a container for [`Particle`] and [`CustomParticle`] objects."
      ]
    },
    {
      "cell_type": "code",
      "execution_count": 47,
      "id": "30cc7d36",
      "metadata": {
        "id": "30cc7d36"
      },
      "outputs": [],
      "source": [
        "iron_ions = ParticleList([\"Fe 12+\", \"Fe 13+\", \"Fe 14+\"])"
      ]
    },
    {
      "cell_type": "markdown",
      "id": "d56ddb98",
      "metadata": {
        "id": "d56ddb98"
      },
      "source": [
        "[`ParticleList`]: https://docs.plasmapy.org/en/stable/api/plasmapy.particles.particle_collections.ParticleList.html\n",
        "\n",
        "By using a [`ParticleList`], we can access the properties of multiple particles at once."
      ]
    },
    {
      "cell_type": "code",
      "execution_count": 48,
      "id": "2434f71b",
      "metadata": {
        "colab": {
          "base_uri": "https://localhost:8080/",
          "height": 37
        },
        "id": "2434f71b",
        "outputId": "daf9d4eb-1a75-46ef-c123-71bf63f091fc"
      },
      "outputs": [
        {
          "output_type": "execute_result",
          "data": {
            "text/plain": [
              "<Quantity [9.27218729e-26, 9.27209620e-26, 9.27200510e-26] kg>"
            ],
            "text/latex": "$[9.2721873 \\times 10^{-26},~9.2720962 \\times 10^{-26},~9.2720051 \\times 10^{-26}] \\; \\mathrm{kg}$"
          },
          "metadata": {},
          "execution_count": 48
        }
      ],
      "source": [
        "iron_ions.mass"
      ]
    },
    {
      "cell_type": "code",
      "execution_count": 49,
      "id": "14a431dd",
      "metadata": {
        "colab": {
          "base_uri": "https://localhost:8080/",
          "height": 37
        },
        "id": "14a431dd",
        "outputId": "854b897b-0f8f-48ca-a460-610f8ebad1a3"
      },
      "outputs": [
        {
          "output_type": "execute_result",
          "data": {
            "text/plain": [
              "<Quantity [1.92261196e-18, 2.08282962e-18, 2.24304729e-18] C>"
            ],
            "text/latex": "$[1.922612 \\times 10^{-18},~2.0828296 \\times 10^{-18},~2.2430473 \\times 10^{-18}] \\; \\mathrm{C}$"
          },
          "metadata": {},
          "execution_count": 49
        }
      ],
      "source": [
        "iron_ions.charge"
      ]
    },
    {
      "cell_type": "code",
      "execution_count": 50,
      "id": "48cd1c7a",
      "metadata": {
        "colab": {
          "base_uri": "https://localhost:8080/"
        },
        "id": "48cd1c7a",
        "outputId": "d64db58e-3410-4806-be7f-ea86ce342813"
      },
      "outputs": [
        {
          "output_type": "execute_result",
          "data": {
            "text/plain": [
              "['Fe 12+', 'Fe 13+', 'Fe 14+']"
            ]
          },
          "metadata": {},
          "execution_count": 50
        }
      ],
      "source": [
        "iron_ions.symbols"
      ]
    },
    {
      "cell_type": "markdown",
      "id": "cccc6c60",
      "metadata": {
        "id": "cccc6c60"
      },
      "source": [
        "[`ParticleList`]: https://docs.plasmapy.org/en/stable/api/plasmapy.particles.particle_collections.ParticleList.html\n",
        "[`CustomParticle`]: https://docs.plasmapy.org/en/stable/api/plasmapy.particles.particle_class.CustomParticle.html\n",
        "[`Particle`]: https://docs.plasmapy.org/en/stable/api/plasmapy.particles.particle_class.Particle.html\n",
        "\n",
        "We can also create a [`ParticleList`] by adding [`Particle`] and/or [`CustomParticle`] objects together."
      ]
    },
    {
      "cell_type": "code",
      "execution_count": 58,
      "id": "3b953065",
      "metadata": {
        "colab": {
          "base_uri": "https://localhost:8080/"
        },
        "id": "3b953065",
        "outputId": "7383629c-c8e3-4a15-a9e1-e31a24f0fe18"
      },
      "outputs": [
        {
          "output_type": "execute_result",
          "data": {
            "text/plain": [
              "ParticleList(['p+', 'e-'])"
            ]
          },
          "metadata": {},
          "execution_count": 58
        }
      ],
      "source": [
        "proton + electron"
      ]
    },
    {
      "cell_type": "markdown",
      "id": "b78ee7d2",
      "metadata": {
        "id": "b78ee7d2"
      },
      "source": [
        "We can also get an average particle."
      ]
    },
    {
      "cell_type": "code",
      "execution_count": 52,
      "id": "bf01f619",
      "metadata": {
        "colab": {
          "base_uri": "https://localhost:8080/"
        },
        "id": "bf01f619",
        "outputId": "bc8798f4-5ccd-425f-91bc-6d3ff0a37a04"
      },
      "outputs": [
        {
          "output_type": "execute_result",
          "data": {
            "text/plain": [
              "CustomParticle(mass=9.272096197546505e-26 kg, charge=2.0828296241999997e-18 C)"
            ]
          },
          "metadata": {},
          "execution_count": 52
        }
      ],
      "source": [
        "iron_ions.average_particle()"
      ]
    },
    {
      "cell_type": "markdown",
      "id": "e9038618",
      "metadata": {
        "id": "e9038618"
      },
      "source": [
        "[`ParticleList`]: https://docs.plasmapy.org/en/stable/api/plasmapy.particles.particle_collections.ParticleList.html\n",
        "[`plasmapy.formulary`]: https://docs.plasmapy.org/en/stable/formulary/index.html\n",
        "\n",
        "[`ParticleList`] objects can also be provided to the most commonly used functions in [`plasmapy.formulary`], with more complete interoperability expected in the future."
      ]
    },
    {
      "cell_type": "markdown",
      "id": "efe199c8",
      "metadata": {
        "id": "efe199c8"
      },
      "source": [
        "### Nuclear reactions"
      ]
    },
    {
      "cell_type": "markdown",
      "id": "58fb006b",
      "metadata": {
        "id": "58fb006b"
      },
      "source": [
        "[`plasmapy.particles`]: https://docs.plasmapy.org/en/stable/particles/index.html\n",
        "\n",
        "We can use [`plasmapy.particles`] to calculate the energy of a nuclear reaction using the `>` operator.  "
      ]
    },
    {
      "cell_type": "code",
      "execution_count": 60,
      "id": "d8a9ab9e",
      "metadata": {
        "id": "d8a9ab9e"
      },
      "outputs": [],
      "source": [
        "deuteron = Particle(\"D+\")\n",
        "triton = Particle(\"T+\")\n",
        "alpha = Particle(\"He-4 2+\")\n",
        "neutron = Particle(\"n\")"
      ]
    },
    {
      "cell_type": "code",
      "execution_count": 61,
      "id": "cb95c644",
      "metadata": {
        "id": "cb95c644"
      },
      "outputs": [],
      "source": [
        "energy = deuteron + triton > alpha + neutron"
      ]
    },
    {
      "cell_type": "code",
      "execution_count": 63,
      "id": "e7a4c236",
      "metadata": {
        "colab": {
          "base_uri": "https://localhost:8080/",
          "height": 37
        },
        "id": "e7a4c236",
        "outputId": "09944fe1-6fd7-43f6-fb78-5294e0c47b5e"
      },
      "outputs": [
        {
          "output_type": "execute_result",
          "data": {
            "text/plain": [
              "<Quantity 17.58925276 MeV>"
            ],
            "text/latex": "$17.589253 \\; \\mathrm{MeV}$"
          },
          "metadata": {},
          "execution_count": 63
        }
      ],
      "source": [
        "energy.to(\"MeV\")"
      ]
    },
    {
      "cell_type": "markdown",
      "id": "8bf7e515",
      "metadata": {
        "id": "8bf7e515"
      },
      "source": [
        "If the nuclear reaction is invalid, then an exception is raised that states the reason why."
      ]
    },
    {
      "cell_type": "code",
      "execution_count": 65,
      "id": "67b32a3a",
      "metadata": {
        "tags": [
          "raises-exception"
        ],
        "colab": {
          "base_uri": "https://localhost:8080/",
          "height": 339
        },
        "id": "67b32a3a",
        "outputId": "70aefd32-d57f-482c-8ab6-ca6cd7ff0e26"
      },
      "outputs": [
        {
          "output_type": "error",
          "ename": "ParticleError",
          "evalue": "The baryon number is not conserved for reactants = [Particle(\"D 1+\"), Particle(\"T 1+\")] and products = [Particle(\"He-4 2+\"), Particle(\"n\"), Particle(\"n\")].",
          "traceback": [
            "\u001b[0;31m---------------------------------------------------------------------------\u001b[0m",
            "\u001b[0;31mParticleError\u001b[0m                             Traceback (most recent call last)",
            "\u001b[0;32m<ipython-input-65-2787283312>\u001b[0m in \u001b[0;36m<cell line: 0>\u001b[0;34m()\u001b[0m\n\u001b[0;32m----> 1\u001b[0;31m \u001b[0mdeuteron\u001b[0m \u001b[0;34m+\u001b[0m \u001b[0mtriton\u001b[0m \u001b[0;34m>\u001b[0m \u001b[0malpha\u001b[0m \u001b[0;34m+\u001b[0m \u001b[0;36m2\u001b[0m \u001b[0;34m*\u001b[0m \u001b[0mneutron\u001b[0m\u001b[0;34m\u001b[0m\u001b[0;34m\u001b[0m\u001b[0m\n\u001b[0m",
            "\u001b[0;32m/usr/local/lib/python3.11/dist-packages/plasmapy/particles/particle_collections.py\u001b[0m in \u001b[0;36m__gt__\u001b[0;34m(self, other)\u001b[0m\n\u001b[1;32m    227\u001b[0m \u001b[0;34m\u001b[0m\u001b[0m\n\u001b[1;32m    228\u001b[0m         \u001b[0mother_as_particle_list\u001b[0m \u001b[0;34m=\u001b[0m \u001b[0mself\u001b[0m\u001b[0;34m.\u001b[0m\u001b[0m_cast_other_as_particle_list\u001b[0m\u001b[0;34m(\u001b[0m\u001b[0mother\u001b[0m\u001b[0;34m)\u001b[0m\u001b[0;34m\u001b[0m\u001b[0;34m\u001b[0m\u001b[0m\n\u001b[0;32m--> 229\u001b[0;31m         return nuclear_reaction_energy(\n\u001b[0m\u001b[1;32m    230\u001b[0m             \u001b[0mreactants\u001b[0m\u001b[0;34m=\u001b[0m\u001b[0mself\u001b[0m\u001b[0;34m.\u001b[0m\u001b[0msymbols\u001b[0m\u001b[0;34m,\u001b[0m \u001b[0mproducts\u001b[0m\u001b[0;34m=\u001b[0m\u001b[0mother_as_particle_list\u001b[0m\u001b[0;34m.\u001b[0m\u001b[0msymbols\u001b[0m\u001b[0;34m\u001b[0m\u001b[0;34m\u001b[0m\u001b[0m\n\u001b[1;32m    231\u001b[0m         )\n",
            "\u001b[0;32m/usr/local/lib/python3.11/dist-packages/plasmapy/particles/nuclear.py\u001b[0m in \u001b[0;36mnuclear_reaction_energy\u001b[0;34m(*args, **kwargs)\u001b[0m\n\u001b[1;32m    307\u001b[0m \u001b[0;34m\u001b[0m\u001b[0m\n\u001b[1;32m    308\u001b[0m     \u001b[0;32mif\u001b[0m \u001b[0mtotal_baryon_number\u001b[0m\u001b[0;34m(\u001b[0m\u001b[0mreactants\u001b[0m\u001b[0;34m)\u001b[0m \u001b[0;34m!=\u001b[0m \u001b[0mtotal_baryon_number\u001b[0m\u001b[0;34m(\u001b[0m\u001b[0mproducts\u001b[0m\u001b[0;34m)\u001b[0m\u001b[0;34m:\u001b[0m\u001b[0;34m\u001b[0m\u001b[0;34m\u001b[0m\u001b[0m\n\u001b[0;32m--> 309\u001b[0;31m         raise ParticleError(\n\u001b[0m\u001b[1;32m    310\u001b[0m             \u001b[0;34mf\"The baryon number is not conserved for {reactants = } and {products = }.\"\u001b[0m\u001b[0;34m\u001b[0m\u001b[0;34m\u001b[0m\u001b[0m\n\u001b[1;32m    311\u001b[0m         )\n",
            "\u001b[0;31mParticleError\u001b[0m: The baryon number is not conserved for reactants = [Particle(\"D 1+\"), Particle(\"T 1+\")] and products = [Particle(\"He-4 2+\"), Particle(\"n\"), Particle(\"n\")]."
          ]
        }
      ],
      "source": [
        "deuteron + triton > alpha + 2 * neutron"
      ]
    },
    {
      "cell_type": "markdown",
      "id": "f065a288",
      "metadata": {
        "id": "f065a288"
      },
      "source": [
        "## PlasmaPy formulary\n",
        "\n",
        "[`plasmapy.formulary`]: https://docs.plasmapy.org/en/stable/formulary/index.html\n",
        "\n",
        "The [`plasmapy.formulary`] subpackage contains a broad variety of formulas needed by plasma scientists across disciplines, in particular to calculate plasma parameters."
      ]
    },
    {
      "cell_type": "code",
      "execution_count": 66,
      "id": "20c3b9b1",
      "metadata": {
        "id": "20c3b9b1"
      },
      "outputs": [],
      "source": [
        "from plasmapy.formulary import *"
      ]
    },
    {
      "cell_type": "markdown",
      "id": "955ce3dd",
      "metadata": {
        "id": "955ce3dd"
      },
      "source": [
        "### Plasma beta in the solar corona"
      ]
    },
    {
      "cell_type": "markdown",
      "id": "1bb15c25",
      "metadata": {
        "id": "1bb15c25"
      },
      "source": [
        "[Plasma beta]: https://en.wikipedia.org/wiki/Beta_(plasma_physics)\n",
        "\n",
        "[Plasma beta] ($β$) is one of the most fundamental plasma parameters. $β$ is the ratio of the plasma (gas) pressure to the magnetic pressure. How a plasma behaves depends strongly on $β$. When $β ≫ 1$, the magnetic field is not strong enough to exert much of a force on the plasma, so its motions start to resemble a gas. When $β ≪ 1$, magnetic tension and pressure are the dominant macroscopic forces.\n",
        "\n",
        "Let's use [`plasmapy.formulary`](https://docs.plasmapy.org/en/stable/formulary/index.html) to calculate plasma β in different regions of the solar atmosphere and see what we can learn."
      ]
    },
    {
      "cell_type": "markdown",
      "id": "24162ca9",
      "metadata": {
        "id": "24162ca9"
      },
      "source": [
        "#### Solar corona"
      ]
    },
    {
      "cell_type": "markdown",
      "id": "60aa77b5",
      "metadata": {
        "id": "60aa77b5"
      },
      "source": [
        "Let's start by defining some plasma parameters for an active region in the solar corona."
      ]
    },
    {
      "cell_type": "code",
      "execution_count": 68,
      "id": "c4b98f58",
      "metadata": {
        "id": "c4b98f58"
      },
      "outputs": [],
      "source": [
        "B_corona = 50 * u.G\n",
        "n_corona = 1e9 * u.cm**-3\n",
        "T_corona = 1 * u.MK"
      ]
    },
    {
      "cell_type": "markdown",
      "id": "cdc0c334",
      "metadata": {
        "id": "cdc0c334"
      },
      "source": [
        "When we use these parameters in [`beta`](https://docs.plasmapy.org/en/stable/api/plasmapy.formulary.dimensionless.beta.html#plasmapy.formulary.dimensionless.beta), we find that $β$ is quite small so that the corona is magnetically dominated."
      ]
    },
    {
      "cell_type": "code",
      "execution_count": 69,
      "id": "98b23229",
      "metadata": {
        "colab": {
          "base_uri": "https://localhost:8080/",
          "height": 37
        },
        "id": "98b23229",
        "outputId": "60c7ee27-a210-43e2-8f48-134f4ec62bcb"
      },
      "outputs": [
        {
          "output_type": "execute_result",
          "data": {
            "text/plain": [
              "<Quantity 0.00138798>"
            ],
            "text/latex": "$0.0013879798 \\; \\mathrm{}$"
          },
          "metadata": {},
          "execution_count": 69
        }
      ],
      "source": [
        "beta(T=T_corona, n=n_corona, B=B_corona)"
      ]
    },
    {
      "cell_type": "markdown",
      "id": "deb41bfa-bad5-4bdc-a0f2-75b4c0a16054",
      "metadata": {
        "id": "deb41bfa-bad5-4bdc-a0f2-75b4c0a16054"
      },
      "source": [
        "#### Solar photosphere"
      ]
    },
    {
      "cell_type": "markdown",
      "id": "2442b569-a98d-4528-ab1a-374867be06f3",
      "metadata": {
        "id": "2442b569-a98d-4528-ab1a-374867be06f3"
      },
      "source": [
        "Let's specify some characteristic plasma parameters for the solar photosphere, away from any sunspots."
      ]
    },
    {
      "cell_type": "code",
      "execution_count": 70,
      "id": "1654acbb-056b-46e5-9fcf-900ab0fbd2b7",
      "metadata": {
        "id": "1654acbb-056b-46e5-9fcf-900ab0fbd2b7"
      },
      "outputs": [],
      "source": [
        "T_photosphere = 5800 * u.K\n",
        "B_photosphere = 400 * u.G\n",
        "n_photosphere = 1e17 * u.cm**-3"
      ]
    },
    {
      "cell_type": "markdown",
      "id": "be434e24-080a-449e-a3f2-6f18149ff362",
      "metadata": {
        "id": "be434e24-080a-449e-a3f2-6f18149ff362"
      },
      "source": [
        "When we calculate for the photosphere, we find that it is an order of magnitude larger than 1, so plasma pressure forces are more important than magnetic tension and pressure."
      ]
    },
    {
      "cell_type": "code",
      "execution_count": 71,
      "id": "7cf5b298-f68b-4bcb-bbf4-2fb93d8cdc6a",
      "metadata": {
        "colab": {
          "base_uri": "https://localhost:8080/",
          "height": 37
        },
        "id": "7cf5b298-f68b-4bcb-bbf4-2fb93d8cdc6a",
        "outputId": "977c7cc6-0bc4-4ae8-9a35-be4e09e17d95"
      },
      "outputs": [
        {
          "output_type": "execute_result",
          "data": {
            "text/plain": [
              "<Quantity 12.5785666>"
            ],
            "text/latex": "$12.578567 \\; \\mathrm{}$"
          },
          "metadata": {},
          "execution_count": 71
        }
      ],
      "source": [
        "beta(T=T_photosphere, B=B_photosphere, n=n_photosphere)"
      ]
    },
    {
      "cell_type": "markdown",
      "id": "dee08605",
      "metadata": {
        "id": "dee08605"
      },
      "source": [
        "### Plasma parameters in Earth's magnetosphere"
      ]
    },
    {
      "cell_type": "markdown",
      "id": "9587734f",
      "metadata": {
        "id": "9587734f"
      },
      "source": [
        "[magnetic reconnection]: https://en.wikipedia.org/wiki/Magnetic_reconnection\n",
        "[`plasmapy.formulary`]: https://docs.plasmapy.org/en/stable/formulary/index.html\n",
        "\n",
        "The [*Magnetospheric Multiscale Mission*](https://www.nasa.gov/mission_pages/mms/overview/index.html) (*MMS*) is a constellation of four identical spacecraft. The goal of *MMS* is to investigate the small-scale physics of [magnetic reconnection] in Earth's magnetosphere. In order to do this, the spacecraft need to orbit in a tight configuration.  But how tight does the tetrahedron have to be?  Let's use [`plasmapy.formulary`] to find out."
      ]
    },
    {
      "cell_type": "markdown",
      "id": "706818eb",
      "metadata": {
        "id": "706818eb"
      },
      "source": [
        "#### Physics background"
      ]
    },
    {
      "cell_type": "markdown",
      "id": "e7f1ddf9",
      "metadata": {
        "id": "e7f1ddf9"
      },
      "source": [
        "[Magnetic reconnection]: https://en.wikipedia.org/wiki/Magnetic_reconnection\n",
        "\n",
        "[Magnetic reconnection] is the fundamental plasma process that converts stored magnetic energy into kinetic energy, thermal energy, and particle acceleration. Reconnection powers solar flares and is a key component of geomagnetic storms in Earth's magnetosphere. Reconnection can also degrade confinement in fusion devices such as tokamaks.\n",
        "\n",
        "The **inertial length** is the characteristic length scale for a particle to get accelerated or decelerated by electromagnetic forces in a plasma.\n",
        "\n",
        "When the reconnection layer thickness is shorter than the **ion inertial length**, $d_i ≡ c/ω_{pi}$, collisionless effects and the Hall effect enable reconnection to be fast (Zweibel & Yamada 2009). The inner electron diffusion region has a thickness of about the **electron inertial length**, $d_e ≡ c/ω_{pi}$. (Here, $ω_{pi}$ and $ω_{pe}$ are the ion and electron plasma frequencies.)\n",
        "\n",
        "**Our goal: calculate $d_i$ and $d_e$ to get an idea of how far the MMS spacecraft should be separated from each other to investigate reconnection.**"
      ]
    },
    {
      "cell_type": "markdown",
      "id": "749fba51",
      "metadata": {
        "id": "749fba51"
      },
      "source": [
        "### Length scales"
      ]
    },
    {
      "cell_type": "markdown",
      "id": "9db83228",
      "metadata": {
        "id": "9db83228"
      },
      "source": [
        "Let's choose some characteristic plasma parameters for the magnetosphere."
      ]
    },
    {
      "cell_type": "code",
      "execution_count": 72,
      "id": "1f317f40",
      "metadata": {
        "id": "1f317f40"
      },
      "outputs": [],
      "source": [
        "n = 1 * u.cm**-3\n",
        "B = 5 * u.nT\n",
        "T = 10**4.5 * u.K"
      ]
    },
    {
      "cell_type": "markdown",
      "id": "591bef20",
      "metadata": {
        "id": "591bef20"
      },
      "source": [
        "Let's calculate the ion inertial length, $d_i$. On length scales shorter than $d_i$, the Hall effect becomes important as the ions and electrons decouple from each other."
      ]
    },
    {
      "cell_type": "code",
      "execution_count": 73,
      "id": "a717c75f",
      "metadata": {
        "colab": {
          "base_uri": "https://localhost:8080/",
          "height": 37
        },
        "id": "a717c75f",
        "outputId": "0379ce4e-d7b0-4ed2-bd8d-849d6eeb1821"
      },
      "outputs": [
        {
          "output_type": "execute_result",
          "data": {
            "text/plain": [
              "<Quantity 227.71076725 km>"
            ],
            "text/latex": "$227.71077 \\; \\mathrm{km}$"
          },
          "metadata": {},
          "execution_count": 73
        }
      ],
      "source": [
        "inertial_length(n=n, particle=\"p+\").to(\"km\")"
      ]
    },
    {
      "cell_type": "markdown",
      "id": "5c56977f",
      "metadata": {
        "id": "5c56977f"
      },
      "source": [
        "The ion diffusion regions should therefore be a few hundred kilometers thick. Let's calculate the electron inertial length next."
      ]
    },
    {
      "cell_type": "code",
      "execution_count": 74,
      "id": "4e5a4dd9",
      "metadata": {
        "colab": {
          "base_uri": "https://localhost:8080/",
          "height": 37
        },
        "id": "4e5a4dd9",
        "outputId": "71d54602-b1a8-41f6-c8cc-05ebedc4d21d"
      },
      "outputs": [
        {
          "output_type": "execute_result",
          "data": {
            "text/plain": [
              "<Quantity 5.31409326 km>"
            ],
            "text/latex": "$5.3140933 \\; \\mathrm{km}$"
          },
          "metadata": {},
          "execution_count": 74
        }
      ],
      "source": [
        "inertial_length(n=n, particle=\"e-\").to(\"km\")"
      ]
    },
    {
      "cell_type": "markdown",
      "id": "bb4b8d8d",
      "metadata": {
        "id": "bb4b8d8d"
      },
      "source": [
        "The electron diffusion region should therefore have a characteristic length scale of a few kilometers, which is significantly smaller than the ion diffusion region."
      ]
    },
    {
      "cell_type": "markdown",
      "id": "2b2875fc",
      "metadata": {
        "id": "2b2875fc"
      },
      "source": [
        "We can also calculate the gyroradii for different particles"
      ]
    },
    {
      "cell_type": "code",
      "execution_count": 75,
      "id": "96fee1ef",
      "metadata": {
        "colab": {
          "base_uri": "https://localhost:8080/",
          "height": 37
        },
        "id": "96fee1ef",
        "outputId": "be4ce8ad-c7e7-4ef9-f3a0-8c895ac439f7"
      },
      "outputs": [
        {
          "output_type": "execute_result",
          "data": {
            "text/plain": [
              "<Quantity [47.70623408,  1.1133278 ] km>"
            ],
            "text/latex": "$[47.706234,~1.1133278] \\; \\mathrm{km}$"
          },
          "metadata": {},
          "execution_count": 75
        }
      ],
      "source": [
        "gyroradius(B=B, particle=[\"p+\", \"e-\"], T=T).to(\"km\")"
      ]
    },
    {
      "cell_type": "markdown",
      "id": "1b2b32b3",
      "metadata": {
        "id": "1b2b32b3"
      },
      "source": [
        "The four *MMS* spacecraft have separations of ten to hundreds of kilometers, and thus are well-positioned to investigate Hall physics during reconnection in the magnetosphere."
      ]
    },
    {
      "cell_type": "markdown",
      "id": "38e1aff3",
      "metadata": {
        "id": "38e1aff3"
      },
      "source": [
        "#### Frequencies"
      ]
    },
    {
      "cell_type": "markdown",
      "id": "fc1a183f",
      "metadata": {
        "id": "fc1a183f"
      },
      "source": [
        "We can also calculate some of the fundamental frequencies associated with magnetospheric plasma."
      ]
    },
    {
      "cell_type": "code",
      "execution_count": 76,
      "id": "4b9f9403",
      "metadata": {
        "colab": {
          "base_uri": "https://localhost:8080/",
          "height": 38
        },
        "id": "4b9f9403",
        "outputId": "464d9325-4d6e-473d-8ed1-37c9f32d9d1f"
      },
      "outputs": [
        {
          "output_type": "execute_result",
          "data": {
            "text/plain": [
              "<Quantity [ 1316.54932976, 56414.60231181] rad / s>"
            ],
            "text/latex": "$[1316.5493,~56414.602] \\; \\mathrm{\\frac{rad}{s}}$"
          },
          "metadata": {},
          "execution_count": 76
        }
      ],
      "source": [
        "plasma_frequency(n=n, particle=[\"p+\", \"e-\"])"
      ]
    },
    {
      "cell_type": "code",
      "execution_count": 77,
      "id": "5cc9c0ca",
      "metadata": {
        "colab": {
          "base_uri": "https://localhost:8080/",
          "height": 38
        },
        "id": "5cc9c0ca",
        "outputId": "4f3e801d-c4e1-412e-b10a-ddd209e54deb"
      },
      "outputs": [
        {
          "output_type": "execute_result",
          "data": {
            "text/plain": [
              "<Quantity [4.78941658e-01, 8.79410005e+02] rad / s>"
            ],
            "text/latex": "$[0.47894166,~879.41001] \\; \\mathrm{\\frac{rad}{s}}$"
          },
          "metadata": {},
          "execution_count": 77
        }
      ],
      "source": [
        "gyrofrequency(B=B, particle=[\"p+\", \"e-\"])"
      ]
    },
    {
      "cell_type": "code",
      "execution_count": 78,
      "id": "88534868",
      "metadata": {
        "colab": {
          "base_uri": "https://localhost:8080/",
          "height": 38
        },
        "id": "88534868",
        "outputId": "5a23f643-971d-45ae-aa53-fd8e19a73f6b"
      },
      "outputs": [
        {
          "output_type": "execute_result",
          "data": {
            "text/plain": [
              "<Quantity 20.52032563 rad / s>"
            ],
            "text/latex": "$20.520326 \\; \\mathrm{\\frac{rad}{s}}$"
          },
          "metadata": {},
          "execution_count": 78
        }
      ],
      "source": [
        "lower_hybrid_frequency(B=B, n_i=n, ion=\"p+\")"
      ]
    },
    {
      "cell_type": "markdown",
      "id": "8242486e-dcb4-4815-aa6f-04e6d6406546",
      "metadata": {
        "id": "8242486e-dcb4-4815-aa6f-04e6d6406546"
      },
      "source": [
        "[`lower_hybrid_frequency`]: https://docs.plasmapy.org/en/stable/api/plasmapy.formulary.frequencies.lower_hybrid_frequency.html#lower-hybrid-frequency\n",
        "[`plasmapy.formulary`]: https://docs.plasmapy.org/en/stable/formulary/index.html\n",
        "\n",
        "\n",
        "Most of the functions in [`plasmapy.formulary`] have descriptions of the plasma parameters that include the formula and physical interpretation.  If we ever forget what the [`lower_hybrid_frequency`] represents, we can check out its documentation page!  "
      ]
    },
    {
      "cell_type": "markdown",
      "id": "04bf2ba1-c580-4ca5-b410-530ad3b4e31a",
      "metadata": {
        "id": "04bf2ba1-c580-4ca5-b410-530ad3b4e31a"
      },
      "source": [
        "## Final thoughts"
      ]
    },
    {
      "cell_type": "markdown",
      "id": "35962f6d-4897-4195-940d-990f36c313b3",
      "metadata": {
        "id": "35962f6d-4897-4195-940d-990f36c313b3"
      },
      "source": [
        "[**PlasmaPy's online documentation**]: https://docs.plasmapy.org\n",
        "[**contributor guide**]: https://docs.plasmapy.org/en/latest/contributing\n",
        "[getting ready to contribute]: https://docs.plasmapy.org/en/latest/contributing/getting_ready.html\n",
        "[code contribution workflow]: https://docs.plasmapy.org/en/latest/contributing/workflow.html\n",
        "[good first issues]: https://github.com/PlasmaPy/PlasmaPy/issues?q=is%3Aissue+is%3Aopen+label%3A%22good+first+issue%22\n",
        "[raise an issue]: https://github.com/PlasmaPy/PlasmaPy/issues/new/choose\n",
        "[office hours]: https://www.plasmapy.org/meetings/office_hours\n",
        "\n",
        "**Thank you for coming to this tutorial!** 😺 If you'd like to learn more about PlasmaPy's current capabilities, please check out [**PlasmaPy's online documentation**]. 📚\n",
        "\n",
        "PlasmaPy is a community-developed project, and we invite you to contribute!  Please check out our [**contributor guide**] to learn more, including the pages on [getting ready to contribute] and the [code contribution workflow].  We've labeled [good first issues] 🏷️ for new contributors.  Possibilities include improving the documentation for a plasma parameter or adding a new example Jupyter notebook.  \n",
        "\n",
        "If there is a feature that you would really like added to PlasmaPy, or if you find a bug or a place that the docs could be improved, please [raise an issue]!  We deeply appreciate it, and doing so helps guide the future of the project.\n",
        "\n",
        "We thank you once again!"
      ]
    }
  ],
  "metadata": {
    "celltoolbar": "Tags",
    "kernelspec": {
      "display_name": "Python 3 (ipykernel)",
      "language": "python",
      "name": "python3"
    },
    "language_info": {
      "codemirror_mode": {
        "name": "ipython",
        "version": 3
      },
      "file_extension": ".py",
      "mimetype": "text/x-python",
      "name": "python",
      "nbconvert_exporter": "python",
      "pygments_lexer": "ipython3",
      "version": "3.12.6"
    },
    "colab": {
      "provenance": []
    }
  },
  "nbformat": 4,
  "nbformat_minor": 5
}